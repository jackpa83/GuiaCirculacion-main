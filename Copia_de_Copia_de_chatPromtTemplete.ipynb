{
  "cells": [
    {
      "cell_type": "markdown",
      "metadata": {
        "id": "view-in-github",
        "colab_type": "text"
      },
      "source": [
        "<a href=\"https://colab.research.google.com/github/jackpa83/GuiaCirculacion-main/blob/main/Copia_de_Copia_de_chatPromtTemplete.ipynb\" target=\"_parent\"><img src=\"https://colab.research.google.com/assets/colab-badge.svg\" alt=\"Open In Colab\"/></a>"
      ]
    },
    {
      "cell_type": "markdown",
      "id": "be46161e-45e9-46d7-8214-bcbea10aff2e",
      "metadata": {
        "id": "be46161e-45e9-46d7-8214-bcbea10aff2e"
      },
      "source": [
        "## Configuración"
      ]
    },
    {
      "cell_type": "markdown",
      "id": "af743328-1bc8-4b01-85fb-fcb21c6499c2",
      "metadata": {
        "id": "af743328-1bc8-4b01-85fb-fcb21c6499c2"
      },
      "source": [
        "## Crea tu archivo .env\n",
        "* your confidential api keys. Remember to include:\n",
        "* GROQ_API_KEY=your_groq_api_key\n",
        "* OPENAI_API_KEY=your_openai_api_key\n",
        "* LANGCHAIN_TRACING_V2=true\n",
        "* LANGCHAIN_ENDPOINT=https://api.smith.langchain.com\n",
        "* LANGCHAIN_API_KEY=your_langchain_api_key\n",
        "* LANGCHAIN_PROJECT=your_project_name"
      ]
    },
    {
      "cell_type": "code",
      "execution_count": null,
      "id": "Ln4HXbchMNzN",
      "metadata": {
        "id": "Ln4HXbchMNzN"
      },
      "outputs": [],
      "source": [
        "!pip install -qU langchain"
      ]
    },
    {
      "cell_type": "code",
      "execution_count": null,
      "id": "c5514113-ddca-4ae9-9de6-0b9225b18f3c",
      "metadata": {
        "id": "c5514113-ddca-4ae9-9de6-0b9225b18f3c"
      },
      "outputs": [],
      "source": [
        "# Instala la librería python-dotenv para manejar variables de entorno.\n",
        "!pip install -q python-dotenv"
      ]
    },
    {
      "cell_type": "markdown",
      "source": [
        "Se monta nuestro Drive para tener acceso al archivo de claves privadas .env"
      ],
      "metadata": {
        "id": "0Hyk5ouQphKB"
      },
      "id": "0Hyk5ouQphKB"
    },
    {
      "cell_type": "code",
      "execution_count": null,
      "id": "fGzJQbq7MddO",
      "metadata": {
        "colab": {
          "base_uri": "https://localhost:8080/"
        },
        "id": "fGzJQbq7MddO",
        "outputId": "2cbdd6a1-98b3-4c21-9bb5-c49be1a1aa62"
      },
      "outputs": [
        {
          "output_type": "stream",
          "name": "stdout",
          "text": [
            "Drive already mounted at /content/drive/; to attempt to forcibly remount, call drive.mount(\"/content/drive/\", force_remount=True).\n"
          ]
        }
      ],
      "source": [
        "from google.colab import drive\n",
        "drive.mount('/content/drive/')"
      ]
    },
    {
      "cell_type": "code",
      "execution_count": null,
      "id": "oWtUWmyOMpnz",
      "metadata": {
        "id": "oWtUWmyOMpnz"
      },
      "outputs": [],
      "source": [
        "# Importa las funciones necesarias para cargar variables de entorno.\n",
        "from dotenv import load_dotenv\n",
        "import os"
      ]
    },
    {
      "cell_type": "code",
      "execution_count": null,
      "id": "PcVI0oSrNbHS",
      "metadata": {
        "colab": {
          "base_uri": "https://localhost:8080/"
        },
        "id": "PcVI0oSrNbHS",
        "outputId": "3f4695bc-d96c-49ea-cad4-da07f00aa15e"
      },
      "outputs": [
        {
          "output_type": "execute_result",
          "data": {
            "text/plain": [
              "True"
            ]
          },
          "metadata": {},
          "execution_count": 23
        }
      ],
      "source": [
        "# Especificar la ruta completa al archivo .env\n",
        "dotenv_path = '/content/drive/MyDrive/Colab Notebooks/.env'\n",
        "\n",
        "# Cargar el archivo .env\n",
        "load_dotenv(dotenv_path)"
      ]
    },
    {
      "cell_type": "code",
      "execution_count": null,
      "id": "IHtWdkmUeR71",
      "metadata": {
        "id": "IHtWdkmUeR71"
      },
      "outputs": [],
      "source": [
        "#Instala la librería langchain-groq para la integración con Groq\n",
        "!pip install -qU langchain-groq"
      ]
    },
    {
      "cell_type": "code",
      "execution_count": null,
      "id": "aB63pKdTeV4u",
      "metadata": {
        "id": "aB63pKdTeV4u"
      },
      "outputs": [],
      "source": [
        "# Import the ChatGroq class from the langchain_groq module\n",
        "from langchain_groq import ChatGroq\n",
        "\n",
        "# Initialize a ChatGroq instanciados con dos modelos para hacer pruebas\n",
        "model1Groq = ChatGroq(model=\"mixtral-8x7b-32768\")\n",
        "model2Groq = ChatGroq(model=\"llama3-70b-8192\")"
      ]
    },
    {
      "cell_type": "markdown",
      "source": [
        "(OPCIONAL) Si se cuenta con créditos, podemos utilizamos la API de openAI"
      ],
      "metadata": {
        "id": "vrZBKM8y_RoK"
      },
      "id": "vrZBKM8y_RoK"
    },
    {
      "cell_type": "code",
      "execution_count": null,
      "id": "kyYS0KxrO48I",
      "metadata": {
        "collapsed": true,
        "id": "kyYS0KxrO48I"
      },
      "outputs": [],
      "source": [
        "#Install the langchain-openai package\n",
        "!pip install -q langchain-openai\n",
        "\n",
        "# Import the ChatOpenAI class from the langchain_openai module\n",
        "from langchain_openai import ChatOpenAI\n",
        "\n",
        "# Initialize a ChatOpenAI instance with the gpt-4o-mini model\n",
        "#model1OpenAI = ChatOpenAI(model=\"gpt-4o-mini\")\n",
        "\n",
        "# Initialize a ChatOpenAI instance with the gpt-4o model\n",
        "#model2OpenAI = ChatOpenAI(model=\"gpt-4o\")"
      ]
    },
    {
      "cell_type": "code",
      "source": [
        "!pip install -q langchain-community\n"
      ],
      "metadata": {
        "id": "qQLX5VDhVYNR"
      },
      "id": "qQLX5VDhVYNR",
      "execution_count": null,
      "outputs": []
    },
    {
      "cell_type": "markdown",
      "source": [
        "## Ejemplo de un FewShotPromtTemplate"
      ],
      "metadata": {
        "id": "hlABWLfcQtGo"
      },
      "id": "hlABWLfcQtGo"
    },
    {
      "cell_type": "code",
      "source": [
        "from langchain.prompts import FewShotPromptTemplate\n",
        "from langchain.prompts.prompt import PromptTemplate\n"
      ],
      "metadata": {
        "id": "MFYQCPnSRJam"
      },
      "id": "MFYQCPnSRJam",
      "execution_count": null,
      "outputs": []
    },
    {
      "cell_type": "code",
      "source": [
        "\n",
        "# Crear los ejemplos de preguntas y respuestas para el FewShotPromptTemplate\n",
        "ejemplos = [\n",
        "    {\"question\": \"¿Qué es ciber seguridad?\", \"answer\": \"la ciberseguridad es la práctica de proteger tus dispositivos (computadoras, teléfonos, etc.), redes y datos de ataques maliciosos.\"},\n",
        "    {\"question\": \"¿Cuáles son las aplicaciones de la ciber seguridad?\", \"answer\": \"La ciberseguridad tiene un alcance mucho más amplio de lo que podríamos pensar inicialmente. Va más allá de proteger nuestras cuentas personales y se extiende a todos los aspectos de nuestra vida digital, tanto personal como profesional.\"},\n",
        "    {\"question\": \"¿Qué es el aprendizaje de ciberseguridad\", \"answer\": \"es el proceso de adquirir conocimientos y habilidades para proteger sistemas, redes, y datos de ataques cibernéticos. Es como aprender a construir un muro infranqueable alrededor de tu información digital.\"},\n",
        "]\n",
        "\n",
        "# Crear el PromptTemplate para los ejemplos\n",
        "example_prompt = PromptTemplate(\n",
        "    input_variables=[\"question\", \"answer\"],\n",
        "    template=\"Pregunta: {question}\\nRespuesta: {answer}\\n\"\n",
        ")\n",
        "\n",
        "# Configuración del FewShotPromptTemplate con ejemplos\n",
        "few_shot_prompt = FewShotPromptTemplate(\n",
        "    examples=ejemplos,\n",
        "    example_prompt=example_prompt,\n",
        "    input_variables=[\"question\"],\n",
        "    suffix=\"Pregunta: {question}\\nRespuesta:\"\n",
        ")\n",
        "\n",
        "\n",
        "# Crear la cadena que combina el prompt y el LLM model, definido previamente\n",
        "faq_chain = few_shot_prompt | model1Groq\n",
        "\n",
        "# Realizar una pregunta nueva y obtener la respuesta\n",
        "pregunta_nueva = \"¿Cómo funciona la ciber seguridad?\"\n",
        "respuesta = faq_chain.invoke({\"question\": pregunta_nueva})\n",
        "\n",
        "print(\"Pregunta:\", pregunta_nueva)\n",
        "print(\"Respuesta:\", respuesta.content)\n"
      ],
      "metadata": {
        "colab": {
          "base_uri": "https://localhost:8080/"
        },
        "id": "w6TvzUXZQ8tG",
        "outputId": "60eb6b23-a1a3-4a74-86cd-63528e0c4f0f"
      },
      "id": "w6TvzUXZQ8tG",
      "execution_count": null,
      "outputs": [
        {
          "output_type": "stream",
          "name": "stdout",
          "text": [
            "Pregunta: ¿Cómo funciona la ciber seguridad?\n",
            "Respuesta: La ciberseguridad funciona mediante la implementación de diversas capas de protección y técnicas para detectar, prevenir y responder a amenazas cibernéticas. Esto incluye el uso de software y hardware de seguridad, como antivirus, cortafuegos, y sistemas de detección de intrusiones, así como la implementación de políticas y procedimientos de seguridad, como el control de acceso y la concienciación de los usuarios. Además, la ciberseguridad también implica la monitorización y el análisis continuos de las actividades y el tráfico en las redes e infraestructuras informáticas, con el fin de identificar y neutralizar cualquier comportamiento sospechoso o actividad maliciosa.\n"
          ]
        }
      ]
    },
    {
      "cell_type": "markdown",
      "source": [
        "## Ejemplo de un ChatPromptTemplate"
      ],
      "metadata": {
        "id": "x8GsQGxvH1Ef"
      },
      "id": "x8GsQGxvH1Ef"
    },
    {
      "cell_type": "code",
      "source": [
        "from langchain.prompts import ChatPromptTemplate, SystemMessagePromptTemplate, HumanMessagePromptTemplate, AIMessagePromptTemplate\n",
        "#from langchain.chains import LLMChain\n",
        "\n",
        "# Definir el mensaje del sistema para establecer el rol del asistente\n",
        "sistema_prompt = SystemMessagePromptTemplate.from_template(\"Estas preparado para conocer la ciberseguridad .\")\n",
        "\n",
        "# Definir el mensaje del usuario en formato de plantilla\n",
        "usuario_prompt = HumanMessagePromptTemplate.from_template(\"Pregunta: {question}\")\n",
        "\n",
        "# Crear el template del chat\n",
        "chat_prompt = ChatPromptTemplate.from_messages([sistema_prompt, usuario_prompt])\n",
        "\n",
        "\n",
        "# Forma deprecate:\n",
        "#chat_chain = LLMChain(prompt=chat_prompt, llm=model1Groq)\n",
        "\n",
        "chat_chain = chat_prompt | model1Groq\n",
        "\n",
        "# Ejecutar una pregunta inicial y ver la respuesta\n",
        "pregunta_inicial = \"¿Qué es la ciberseguridad?\"\n",
        "respuesta = chat_chain.invoke({\"question\": pregunta_inicial})\n"
      ],
      "metadata": {
        "id": "oIvnCpgIUNhj"
      },
      "id": "oIvnCpgIUNhj",
      "execution_count": null,
      "outputs": []
    },
    {
      "cell_type": "code",
      "source": [
        "print(\"Respuesta:\", respuesta.content)"
      ],
      "metadata": {
        "colab": {
          "base_uri": "https://localhost:8080/"
        },
        "id": "GikB1zFKWI4H",
        "outputId": "e088995a-0679-4705-d5c7-3c6ff5ea1a9a"
      },
      "id": "GikB1zFKWI4H",
      "execution_count": null,
      "outputs": [
        {
          "output_type": "stream",
          "name": "stdout",
          "text": [
            "Respuesta: ¡Claro que sí, estoy listo para hablar sobre ciberseguridad!\n",
            "\n",
            "La ciberseguridad es el conjunto de prácticas, tecnologías y procesos diseñados para proteger sistemas informáticos, redes y datos de accesos no autorizados, uso indebido, daño o interrupción. La ciberseguridad tiene como objetivo salvaguardar la confidencialidad, integridad y disponibilidad de la información y los sistemas en una organización o entorno personal.\n",
            "\n",
            "Esto implica la protección contra una variedad de amenazas, como virus, malware, phishing, ataques de denegación de servicio, espionaje y ciberdelincuencia. La ciberseguridad es una disciplina en constante evolución, ya que los ciberdelincuentes están constantemente desarrollando nuevas técnicas y métodos para eludir las medidas de seguridad existentes. Por lo tanto, es importante mantenerse actualizado con las últimas tendencias y mejores prácticas en ciberseguridad para garantizar una protección adecuada.\n"
          ]
        }
      ]
    },
    {
      "cell_type": "code",
      "source": [
        "# Crear un ChatPromptTemplate más estructurado\n",
        "chat_template = ChatPromptTemplate.from_messages([\n",
        "    (\"system\", \"Eres un experto en {topic}.\"),\n",
        "    (\"human\", \"Hola, Sr. Experto en {topic}, ¿me podrias puede responder una pregunta?\"),\n",
        "    (\"ai\", \"¡Claro! Estoy aquí poderte  ayudar.\"),\n",
        "    (\"human\", \"{user_input}\")\n",
        "])\n",
        "# Crear una cadena de prompts y modelo combinados\n",
        "chat_chain = chat_template | model2Groq\n",
        "\n",
        "# Ejecutar la conversación con una pregunta específica\n",
        "tema = \"ciberseguridad\"\n",
        "pregunta_usuario = \"¿que es la ciberseguridad?\"\n",
        "\n",
        "# Formatear y ejecutar el template con las variables\n",
        "respuesta = chat_chain.invoke({\n",
        "    \"topic\": tema,\n",
        "    \"user_input\": pregunta_usuario\n",
        "})\n"
      ],
      "metadata": {
        "id": "RJbAOjEjbCZG"
      },
      "id": "RJbAOjEjbCZG",
      "execution_count": null,
      "outputs": []
    },
    {
      "cell_type": "code",
      "source": [
        "print(\"Respuesta:\", respuesta.content)"
      ],
      "metadata": {
        "colab": {
          "base_uri": "https://localhost:8080/"
        },
        "id": "Dwe0tK64bn5G",
        "outputId": "f8fc0e4c-7ae1-4d89-d01d-a4e1cfeaae14"
      },
      "id": "Dwe0tK64bn5G",
      "execution_count": null,
      "outputs": [
        {
          "output_type": "stream",
          "name": "stdout",
          "text": [
            "Respuesta: Excelente pregunta! La ciberseguridad se refiere a la práctica de proteger los sistemas, redes, dispositivos y datos de la información de ataques, accesos no autorizados, uso indebido, revelación, alteración o destrucción malintencionada, ya sea por parte de hackers, criminales cibernéticos o cualquier otro tipo de amenaza.\n",
            "\n",
            "La ciberseguridad implica la implementación de medidas de seguridad para proteger la confidencialidad, integridad y disponibilidad de la información, así como la protección de la infraestructura y los activos digitales. Esto incluye, pero no se limita a:\n",
            "\n",
            "* Protección de redes y sistemas contra ataques malintencionados, como intrusiones, phishing, malware, ransomware, etc.\n",
            "* Autenticación y autorización de usuarios y dispositivos para garantizar que solo los usuarios autorizados tengan acceso a la información y los sistemas.\n",
            "* Cifrado de datos para proteger la confidencialidad y integridad de la información en tránsito y en reposo.\n",
            "* Implementación de medidas de seguridad física para proteger los dispositivos y los centros de datos.\n",
            "* Monitoreo y análisis de los sistemas y redes para detectar y responder a incidentes de seguridad.\n",
            "* Educación y concienciación de los usuarios sobre las mejores prácticas de seguridad y los riesgos asociados con el uso de la tecnología.\n",
            "* Desarrollo de políticas y procedimientos de seguridad para garantizar la coordinación y la respuesta efectiva en caso de incidentes.\n",
            "\n",
            "La ciberseguridad es un campo en constante evolución, ya que las amenazas y los ataques cibernéticos también evolucionan y se vuelven más sofisticados. Por lo tanto, es fundamental para las organizaciones y los individuos estar siempre actualizados y preparados para enfrentar estos desafíos y proteger sus activos digitales.\n",
            "\n",
            "¿Te parece útil esta explicación? ¿Tienes alguna otra pregunta sobre ciberseguridad?\n"
          ]
        }
      ]
    },
    {
      "cell_type": "markdown",
      "source": [
        "## Seguimiento de una conversación en un flujo\n",
        "Para implementar el seguimiento de una conversación en un flujo, las herramientas de LangChain  permiten mantener un historial de mensajes entre el usuario y el asistente. Esto es útil para que el modelo pueda referirse a mensajes anteriores y responder en contexto.\n",
        "\n",
        "La función flujo_conversacional tiene el objetivo de crear un flujo de conversación interactivo y acumulativo entre el usuario y un modelo de lenguaje, manteniendo el contexto del historial de mensajes para que el modelo pueda responder de forma coherente y en contexto en cada interacción."
      ],
      "metadata": {
        "id": "yH6yqa7O9HlT"
      },
      "id": "yH6yqa7O9HlT"
    },
    {
      "cell_type": "code",
      "source": [
        "# Crear la función para un flujo de conversación con seguimiento manual\n",
        "def flujo_conversacional(tema, mensajes_usuario):\n",
        "    \"\"\"\n",
        "    Esta función permite crear un flujo de conversación interactivo en torno a un tema dado.\n",
        "    Toma un conjunto de mensajes del usuario y responde a cada uno, acumulando el historial de conversación\n",
        "    para que el modelo pueda referirse a mensajes previos y mantener el contexto.\n",
        "\n",
        "    Args:\n",
        "    - tema (str): Tema central de la conversación (por ejemplo, \"inteligencia artificial\").\n",
        "    - mensajes_usuario (list of str): Lista de preguntas del usuario en la conversación.\n",
        "\n",
        "    Returns:\n",
        "    - historial (list): Historial acumulado de la conversación, con mensajes del usuario y respuestas del modelo.\n",
        "    \"\"\"\n",
        "    # 1. Inicializar el historial de conversación\n",
        "    # Define mensajes iniciales para establecer el contexto del modelo (es experto en el tema)\n",
        "    historial = [\n",
        "        SystemMessagePromptTemplate.from_template(f\"Eres un experto en {tema}.\"),\n",
        "        HumanMessagePromptTemplate.from_template(f\"Hola, Sr o Sra. Expert@ en {tema}, ¿Podrias responder algunas  preguntas?\"),\n",
        "        AIMessagePromptTemplate.from_template(\"¡Claro! Estoy aquí para ayudar.\")\n",
        "    ]\n",
        "\n",
        "    # 2. Proceso de cada mensaje del usuario\n",
        "    # Recorrer cada pregunta del usuario en la lista 'mensajes_usuario'\n",
        "    for user_input in mensajes_usuario:\n",
        "        # Añadir mensaje del usuario al historial\n",
        "        historial.append(HumanMessagePromptTemplate.from_template(user_input))\n",
        "\n",
        "        # Crear un ChatPromptTemplate actualizado con el historial acumulado de mensajes\n",
        "        chat_template = ChatPromptTemplate.from_messages(historial)\n",
        "\n",
        "        # 3. Ejecutar el modelo de chat con el historial acumulado\n",
        "        # Generar la respuesta del modelo basado en todo el historial actual\n",
        "        respuesta_ia = (chat_template | model2Groq).invoke({})\n",
        "\n",
        "        # Añadir la respuesta del modelo al historial para mantener la coherencia en la conversación\n",
        "        historial.append(AIMessagePromptTemplate.from_template(respuesta_ia.content))\n",
        "\n",
        "        # Imprimir la respuesta de la IA\n",
        "        print(\"\\nPregunta:\", user_input)\n",
        "\n",
        "        # Imprimir la respuesta de la IA\n",
        "        print(\"\\nRespuesta:\", respuesta_ia.content)\n",
        "\n",
        "    # 4. Retornar el historial completo al finalizar\n",
        "    return historial\n",
        "\n"
      ],
      "metadata": {
        "id": "HHeaHGDJ9fLs"
      },
      "id": "HHeaHGDJ9fLs",
      "execution_count": null,
      "outputs": []
    },
    {
      "cell_type": "code",
      "source": [
        "# Lista de mensajes del usuario para simular una conversación\n",
        "mensajes_usuario = [\n",
        "    \"¿Qué es la ciberseguridad?\",\n",
        "    \"¿Cuáles son las aplicaciones mas usadas en ciber seguridad?\",\n",
        "    \"¿Podrías explicar como funciona la ciberseguridad?\"\n",
        "]\n",
        "\n",
        "# Ejecutar el flujo de conversación\n",
        "tema = \"Ciber Seguridad\"\n",
        "historial_conversacion = flujo_conversacional(tema, mensajes_usuario)\n"
      ],
      "metadata": {
        "colab": {
          "base_uri": "https://localhost:8080/"
        },
        "id": "66yXSvjj-qQH",
        "outputId": "a8f8ee1c-d77a-4bae-a78b-f114fdcfc611"
      },
      "id": "66yXSvjj-qQH",
      "execution_count": null,
      "outputs": [
        {
          "output_type": "stream",
          "name": "stdout",
          "text": [
            "\n",
            "Pregunta: ¿Qué es la ciberseguridad?\n",
            "\n",
            "Respuesta: Excelente pregunta! La ciberseguridad se refiere a la práctica de proteger los sistemas, redes, dispositivos y datos de ataques cibernéticos, accesos no autorizados, uso indebido, sabotaje, interrupciones y otras formas de daño o pérdida. Esto incluye la protección contra malware, virus, phishing, ransomware, ataques de denegación de servicio (DoS), ataques de día cero y otros tipos de amenazas cibernéticas.\n",
            "\n",
            "La ciberseguridad abarca una amplia gama de temas, incluyendo:\n",
            "\n",
            "1. Seguridad de la información: protección de datos confidenciales y sensitivos.\n",
            "2. Seguridad de la red: protección de las redes y sistemas contra intrusos y ataques.\n",
            "3. Seguridad de aplicaciones: protección de software y aplicaciones contra vulnerabilidades y ataques.\n",
            "4. Seguridad de la identidad: autenticación y autorización de usuarios y sistemas.\n",
            "5. Seguridad de la infraestructura: protección de la infraestructura crítica, como centros de datos y sistemas de control industrial.\n",
            "\n",
            "El objetivo de la ciberseguridad es garantizar la confidencialidad, integridad y disponibilidad de la información y los sistemas, y protegerlos contra las amenazas cibernéticas que pueden afectar la seguridad, la privacidad y la reputación de las organizaciones y los individuos.\n",
            "\n",
            "En resumen, la ciberseguridad es la práctica de proteger los activos digitales contra las amenazas cibernéticas para garantizar la seguridad, la integridad y la confidencialidad de la información y los sistemas.\n",
            "\n",
            "Pregunta: ¿Cuáles son las aplicaciones mas usadas en ciber seguridad?\n",
            "\n",
            "Respuesta: Excelente pregunta! En ciberseguridad, existen various aplicaciones y herramientas que se utilizan para proteger sistemas, redes, dispositivos y datos. A continuación, te menciono algunas de las aplicaciones más comunes y populares en el campo de la ciberseguridad:\n",
            "\n",
            "**1. Firewalls**:\n",
            "\t* Cisco ASA\n",
            "\t* Juniper SRX\n",
            "\t* Fortinet FortiGate\n",
            "\t* pfSense\n",
            "\n",
            "**2. Antivirus y Endpoint Protection**:\n",
            "\t* Norton Antivirus\n",
            "\t* McAfee Endpoint Security\n",
            "\t* Kaspersky Endpoint Security\n",
            "\t* Microsoft Defender Advanced Threat Protection (ATP)\n",
            "\n",
            "**3. Sistemas de Detección de Intrusos (IDS) y Sistemas de Prevención de Intrusos (IPS)**:\n",
            "\t* Snort\n",
            "\t* Suricata\n",
            "\t* Bro\n",
            "\t* Cisco IPS\n",
            "\n",
            "**4. Gestión de Acceso y Autenticación**:\n",
            "\t* Active Directory (Microsoft)\n",
            "\t* Okta\n",
            "\t* Duo Security\n",
            "\t* LastPass\n",
            "\n",
            "**5. Criptografía y Seguridad de la Información**:\n",
            "\t* OpenSSL\n",
            "\t* SSL/TLS\n",
            "\t* PGP (Pretty Good Privacy)\n",
            "\t* TrueCrypt (ahora conocido como Veracrypt)\n",
            "\n",
            "**6. Análisis de Vulnerabilidades y Pruebas de Penetración**:\n",
            "\t* Nessus\n",
            "\t* OpenVAS\n",
            "\t* Metasploit\n",
            "\t* Burp Suite\n",
            "\n",
            "**7. Monitoreo y Análisis de Logs**:\n",
            "\t* Splunk\n",
            "\t* ELK Stack (Elasticsearch, Logstash, Kibana)\n",
            "\t* Graylog\n",
            "\t* Nagios\n",
            "\n",
            "**8. Seguridad de la Nube**:\n",
            "\t* Amazon Web Services (AWS) IAM\n",
            "\t* Microsoft Azure Security Center\n",
            "\t* Google Cloud Security Command Center\n",
            "\t* Cloudflare\n",
            "\n",
            "**9. Seguridad de Email**:\n",
            "\t* SpamAssassin\n",
            "\t* ClamAV\n",
            "\t* Microsoft Exchange Online Protection\n",
            "\t* Proofpoint\n",
            "\n",
            "**10. Herramientas de Respuesta a Incidentes**:\n",
            "\t* Nmap\n",
            "\t* Wireshark\n",
            "\t* Volatility\n",
            "\t* Mandiant\n",
            "\n",
            "Estas son solo algunas de las aplicaciones más populares en ciberseguridad, y hay muchas más herramientas y soluciones disponibles en el mercado. La elección de la herramienta adecuada dependerá del tipo de organización, la industria y los objetivos de seguridad específicos.\n",
            "\n",
            "Pregunta: ¿Podrías explicar como funciona la ciberseguridad?\n",
            "\n",
            "Respuesta: Excelente pregunta! La ciberseguridad es un proceso complejo que implica varias capas de defensa y medidas de protección para prevenir, detectar y responder a las amenazas cibernéticas. A continuación, te explico cómo funciona la ciberseguridad en general:\n",
            "\n",
            "**1. Identificación de Activos**: La primera etapa es identificar los activos que necesitan ser protegidos, como datos confidenciales, sistemas críticos, redes y dispositivos.\n",
            "\n",
            "**2. Evaluación de Riesgos**: Se evalúan los riesgos potenciales y se identifican las vulnerabilidades en los activos identificados. Esto se logra mediante análisis de vulnerabilidades, pruebas de penetración y evaluaciones de riesgos.\n",
            "\n",
            "**3. Implementación de Controles de Seguridad**: Se implementan controles de seguridad para mitigar los riesgos identificados. Los controles de seguridad pueden incluir:\n",
            "\t* Firewalls y sistemas de detección de intrusos (IDS) para proteger la red.\n",
            "\t* Autenticación y autorización para controlar el acceso a los sistemas y datos.\n",
            "\t* Criptografía para proteger la confidencialidad y integridad de los datos.\n",
            "\t* Actualizaciones y parches para mantener los sistemas y software actualizados y seguros.\n",
            "\n",
            "**4. Monitoreo y Análisis**: Se monitorea el entorno de seguridad para detectar posibles incidentes y anomalías. Esto se logra mediante:\n",
            "\t* Sistemas de información de seguridad (SIEM) que recopilan y analizan los registros de seguridad.\n",
            "\t* Monitoreo de la red y el tráfico para detectar actividades sospechosas.\n",
            "\t* Análisis de logs y registros para identificar patrones y tendencias.\n",
            "\n",
            "**5. Respuesta a Incidentes**: Cuando se detecta un incidente, se activa un proceso de respuesta para contener y mitigar el daño. Esto puede incluir:\n",
            "\t* Aislamiento de la zona afectada para evitar la propagación del daño.\n",
            "\t* Análisis forense para determinar la causa y el alcance del incidente.\n",
            "\t* Notificación a las partes afectadas y coordinación con los equipos de respuesta.\n",
            "\n",
            "**6. Recuperación y Mejora**: Después de un incidente, se implementan medidas para recuperar los sistemas y datos afectados. También se realizan ajustes y mejoras para evitar que el incidente se repita en el futuro.\n",
            "\n",
            "**7. Pruebas y Simulaciones**: Se realizan pruebas y simulaciones regularmente para evaluar la efectividad de los controles de seguridad y identificar debilidades.\n",
            "\n",
            "**8. Capacitación y Concienciación**: Se proporciona capacitación y concienciación a los empleados y usuarios sobre las prácticas de seguridad adecuadas y los riesgos cibernéticos.\n",
            "\n",
            "En resumen, la ciberseguridad es un proceso continuo que implica la identificación de activos, evaluación de riesgos, implementación de controles de seguridad, monitoreo y análisis, respuesta a incidentes, recuperación y mejora, pruebas y simulaciones, y capacitación y concienciación.\n"
          ]
        }
      ]
    }
  ],
  "metadata": {
    "colab": {
      "gpuType": "T4",
      "provenance": [],
      "include_colab_link": true
    },
    "kernelspec": {
      "display_name": "Python 3",
      "name": "python3"
    },
    "language_info": {
      "codemirror_mode": {
        "name": "ipython",
        "version": 3
      },
      "file_extension": ".py",
      "mimetype": "text/x-python",
      "name": "python",
      "nbconvert_exporter": "python",
      "pygments_lexer": "ipython3",
      "version": "3.11.4"
    }
  },
  "nbformat": 4,
  "nbformat_minor": 5
}